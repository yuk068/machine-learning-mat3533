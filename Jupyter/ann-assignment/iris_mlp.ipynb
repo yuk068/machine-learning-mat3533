{
 "cells": [
  {
   "cell_type": "code",
   "execution_count": 1,
   "id": "969f78e0-f503-4ec3-9ff6-24489f7e314e",
   "metadata": {},
   "outputs": [],
   "source": [
    "import pandas as pd\n",
    "import numpy as np\n",
    "from sklearn.model_selection import train_test_split\n",
    "from sklearn.preprocessing import OneHotEncoder\n",
    "from sklearn.metrics import accuracy_score, confusion_matrix\n",
    "from sklearn.datasets import load_iris\n",
    "\n",
    "from mlp_model import MLP"
   ]
  },
  {
   "cell_type": "code",
   "execution_count": 35,
   "id": "3d93ca15-5928-4b95-92b5-a072088d2eeb",
   "metadata": {},
   "outputs": [
    {
     "name": "stdout",
     "output_type": "stream",
     "text": [
      "Epoch 0, Cost: 1.0089\n",
      "Epoch 100, Cost: 0.1461\n",
      "Epoch 200, Cost: 0.1230\n",
      "Epoch 300, Cost: 0.0937\n",
      "Epoch 400, Cost: 0.0546\n",
      "Epoch 500, Cost: 0.0391\n",
      "Epoch 600, Cost: 0.0365\n",
      "Epoch 700, Cost: 0.0347\n",
      "Epoch 800, Cost: 0.0332\n",
      "Epoch 900, Cost: 0.0321\n",
      "Accuracy: 0.9666666666666667\n",
      "Confusion Matrix:\n",
      "[[10  0  0]\n",
      " [ 0  9  1]\n",
      " [ 0  0 10]]\n"
     ]
    }
   ],
   "source": [
    "iris_data = load_iris()\n",
    "X = iris_data.data\n",
    "y = iris_data.target\n",
    "\n",
    "encoder = OneHotEncoder(sparse_output=False)\n",
    "y_encoded = encoder.fit_transform(y.reshape(-1, 1))\n",
    "\n",
    "X_train, X_test, y_train, y_test = train_test_split(X, y_encoded, test_size=0.2, stratify=y, random_state=42)\n",
    "\n",
    "model = MLP(input_size=4, hidden_size=5, output_size=3, learning_rate=0.001)\n",
    "model.train(X_train, y_train, epochs=1000)\n",
    "\n",
    "y_pred = model.predict(X_test)\n",
    "y_pred_encoded = encoder.transform(y_pred.reshape(-1, 1))\n",
    "\n",
    "accuracy = accuracy_score(np.argmax(y_test, axis=1), y_pred)\n",
    "conf_matrix = confusion_matrix(np.argmax(y_test, axis=1), y_pred)\n",
    "\n",
    "print(f'Accuracy: {accuracy}')\n",
    "print('Confusion Matrix:')\n",
    "print(conf_matrix)"
   ]
  }
 ],
 "metadata": {
  "kernelspec": {
   "display_name": "Python 3 (ipykernel)",
   "language": "python",
   "name": "python3"
  },
  "language_info": {
   "codemirror_mode": {
    "name": "ipython",
    "version": 3
   },
   "file_extension": ".py",
   "mimetype": "text/x-python",
   "name": "python",
   "nbconvert_exporter": "python",
   "pygments_lexer": "ipython3",
   "version": "3.12.5"
  }
 },
 "nbformat": 4,
 "nbformat_minor": 5
}
