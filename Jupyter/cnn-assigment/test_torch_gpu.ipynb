{
 "cells": [
  {
   "cell_type": "markdown",
   "id": "3ed1da87-f189-46a3-b486-1d5c2fb7cad8",
   "metadata": {},
   "source": [
    "Note: Em không thể configure được Tensorflow với Cuda nên em dùng tạm PyTorch"
   ]
  },
  {
   "cell_type": "code",
   "execution_count": 1,
   "id": "9e213c42-a919-4590-a3f8-8d1dc5c98e56",
   "metadata": {},
   "outputs": [
    {
     "name": "stdout",
     "output_type": "stream",
     "text": [
      "CUDA is available. Running on GPU.\n",
      "GPU Name: NVIDIA GeForce RTX 3060\n",
      "CUDA Version: 12.1\n",
      "GPU Capability: (8, 6)\n",
      "Total GPU Memory: 12.88 GB\n",
      "CPU: 6 threads available\n",
      "PyTorch Version: 2.5.1\n"
     ]
    }
   ],
   "source": [
    "import torch\n",
    "\n",
    "if torch.cuda.is_available():\n",
    "    print(\"CUDA is available. Running on GPU.\")\n",
    "    print(f\"GPU Name: {torch.cuda.get_device_name(0)}\")\n",
    "    print(f\"CUDA Version: {torch.version.cuda}\")\n",
    "    print(f\"GPU Capability: {torch.cuda.get_device_capability(0)}\")\n",
    "    print(f\"Total GPU Memory: {torch.cuda.get_device_properties(0).total_memory / 1e9:.2f} GB\")\n",
    "else:\n",
    "    print(\"CUDA is not available. Running on CPU.\")\n",
    "    \n",
    "print(f\"CPU: {torch.get_num_threads()} threads available\")\n",
    "print(f\"PyTorch Version: {torch.__version__}\")"
   ]
  },
  {
   "cell_type": "code",
   "execution_count": 2,
   "id": "444b616e-a0c8-4efd-9342-50f13fc3c847",
   "metadata": {},
   "outputs": [
    {
     "name": "stdout",
     "output_type": "stream",
     "text": [
      "CPU computation time: 4.4965 seconds\n",
      "GPU computation time: 0.2632 seconds\n",
      "Speedup: 17.09x\n"
     ]
    }
   ],
   "source": [
    "import time\n",
    "\n",
    "matrix_size = 10000\n",
    "\n",
    "cpu_tensor_a = torch.randn(matrix_size, matrix_size)\n",
    "cpu_tensor_b = torch.randn(matrix_size, matrix_size)\n",
    "\n",
    "if torch.cuda.is_available():\n",
    "    gpu_tensor_a = cpu_tensor_a.to('cuda')\n",
    "    gpu_tensor_b = cpu_tensor_b.to('cuda')\n",
    "else:\n",
    "    gpu_tensor_a, gpu_tensor_b = None, None\n",
    "\n",
    "def measure_time(device, tensor_a, tensor_b):\n",
    "    start_time = time.time()\n",
    "    result = torch.mm(tensor_a, tensor_b)\n",
    "    if device == 'cuda':\n",
    "        torch.cuda.synchronize()\n",
    "    end_time = time.time()\n",
    "    return end_time - start_time\n",
    "\n",
    "cpu_time = measure_time('cpu', cpu_tensor_a, cpu_tensor_b)\n",
    "print(f\"CPU computation time: {cpu_time:.4f} seconds\")\n",
    "\n",
    "if gpu_tensor_a is not None:\n",
    "    gpu_time = measure_time('cuda', gpu_tensor_a, gpu_tensor_b)\n",
    "    print(f\"GPU computation time: {gpu_time:.4f} seconds\")\n",
    "    print(f\"Speedup: {cpu_time / gpu_time:.2f}x\")\n",
    "else:\n",
    "    print(\"GPU computation not available.\")"
   ]
  }
 ],
 "metadata": {
  "kernelspec": {
   "display_name": "GPU Test",
   "language": "python",
   "name": "gpu"
  },
  "language_info": {
   "codemirror_mode": {
    "name": "ipython",
    "version": 3
   },
   "file_extension": ".py",
   "mimetype": "text/x-python",
   "name": "python",
   "nbconvert_exporter": "python",
   "pygments_lexer": "ipython3",
   "version": "3.12.7"
  }
 },
 "nbformat": 4,
 "nbformat_minor": 5
}
