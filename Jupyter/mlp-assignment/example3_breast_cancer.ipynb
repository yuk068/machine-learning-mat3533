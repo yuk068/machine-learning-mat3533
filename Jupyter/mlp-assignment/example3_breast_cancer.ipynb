{
 "cells": [
  {
   "cell_type": "code",
   "execution_count": 2,
   "id": "ee5a8bd9-62c0-4fa6-8176-0a00b17a4d07",
   "metadata": {},
   "outputs": [],
   "source": [
    "from sklearn import datasets\n",
    "cancer_data = datasets.load_breast_cancer()\n",
    "# show to test record 5th\n",
    "# print(cancer_data.data[5])\n",
    "# print(cancer_data.data.shape)\n",
    "#target set\n",
    "# print(cancer_data.target)\n",
    "from sklearn.model_selection import train_test_split\n",
    "\n",
    "cancer_data = datasets.load_breast_cancer()\n",
    "\n",
    "X_train, X_test, y_train, y_test = train_test_split(cancer_data.data, cancer_data.target, test_size=0.3, random_state=109)"
   ]
  },
  {
   "cell_type": "code",
   "execution_count": null,
   "id": "d31953de-5044-44b9-ae12-1ee5f961eda0",
   "metadata": {},
   "outputs": [],
   "source": []
  }
 ],
 "metadata": {
  "kernelspec": {
   "display_name": "Python 3 (ipykernel)",
   "language": "python",
   "name": "python3"
  },
  "language_info": {
   "codemirror_mode": {
    "name": "ipython",
    "version": 3
   },
   "file_extension": ".py",
   "mimetype": "text/x-python",
   "name": "python",
   "nbconvert_exporter": "python",
   "pygments_lexer": "ipython3",
   "version": "3.12.6"
  }
 },
 "nbformat": 4,
 "nbformat_minor": 5
}
